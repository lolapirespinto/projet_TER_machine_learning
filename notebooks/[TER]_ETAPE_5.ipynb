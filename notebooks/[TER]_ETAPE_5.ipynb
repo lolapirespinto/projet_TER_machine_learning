{
  "cells": [
    {
      "cell_type": "markdown",
      "metadata": {
        "id": "jYCLXbZW2uRo"
      },
      "source": [
        "#TER ÉTAPE 5"
      ]
    },
    {
      "cell_type": "code",
      "execution_count": 1,
      "metadata": {
        "id": "TDzZvPim2gH9"
      },
      "outputs": [],
      "source": [
        "import numpy as np\n",
        "import pandas as pd\n",
        "import statistics\n",
        "import matplotlib.pyplot as plt\n",
        "import seaborn as sbn\n",
        "import pickle\n",
        "from sklearn.ensemble import RandomForestRegressor\n",
        "from sklearn.ensemble import RandomForestClassifier\n",
        "from sklearn.model_selection import train_test_split\n",
        "from sklearn.model_selection import GridSearchCV\n",
        "from sklearn.model_selection import cross_val_score\n",
        "from sklearn.model_selection import StratifiedKFold\n",
        "from sklearn.metrics import confusion_matrix\n",
        "from sklearn.metrics import recall_score, accuracy_score\n",
        "import math\n",
        "from sklearn.metrics import mean_squared_error\n",
        "from sklearn.metrics import r2_score \n",
        "import numpy as np"
      ]
    },
    {
      "cell_type": "markdown",
      "metadata": {
        "id": "aBv31PGG3BnK"
      },
      "source": [
        "#  1 - CLASSIFICATION \n",
        "DATASET : Planetes\n",
        "\n",
        "---"
      ]
    },
    {
      "cell_type": "code",
      "execution_count": 2,
      "metadata": {
        "colab": {
          "base_uri": "https://localhost:8080/",
          "height": 229
        },
        "id": "mJsvMQw5HfWK",
        "outputId": "fe0c6227-54e2-4df0-8c89-4bc7205f785f"
      },
      "outputs": [
        {
          "data": {
            "text/html": [
              "<div>\n",
              "<style scoped>\n",
              "    .dataframe tbody tr th:only-of-type {\n",
              "        vertical-align: middle;\n",
              "    }\n",
              "\n",
              "    .dataframe tbody tr th {\n",
              "        vertical-align: top;\n",
              "    }\n",
              "\n",
              "    .dataframe thead th {\n",
              "        text-align: right;\n",
              "    }\n",
              "</style>\n",
              "<table border=\"1\" class=\"dataframe\">\n",
              "  <thead>\n",
              "    <tr style=\"text-align: right;\">\n",
              "      <th></th>\n",
              "      <th>battery_power</th>\n",
              "      <th>blue</th>\n",
              "      <th>clock_speed</th>\n",
              "      <th>dual_sim</th>\n",
              "      <th>fc</th>\n",
              "      <th>four_g</th>\n",
              "      <th>int_memory</th>\n",
              "      <th>m_dep</th>\n",
              "      <th>mobile_wt</th>\n",
              "      <th>n_cores</th>\n",
              "      <th>...</th>\n",
              "      <th>px_height</th>\n",
              "      <th>px_width</th>\n",
              "      <th>ram</th>\n",
              "      <th>sc_h</th>\n",
              "      <th>sc_w</th>\n",
              "      <th>talk_time</th>\n",
              "      <th>three_g</th>\n",
              "      <th>touch_screen</th>\n",
              "      <th>wifi</th>\n",
              "      <th>price_range</th>\n",
              "    </tr>\n",
              "  </thead>\n",
              "  <tbody>\n",
              "    <tr>\n",
              "      <th>0</th>\n",
              "      <td>842</td>\n",
              "      <td>0</td>\n",
              "      <td>2.2</td>\n",
              "      <td>0</td>\n",
              "      <td>1</td>\n",
              "      <td>0</td>\n",
              "      <td>7</td>\n",
              "      <td>0.6</td>\n",
              "      <td>188</td>\n",
              "      <td>2</td>\n",
              "      <td>...</td>\n",
              "      <td>20</td>\n",
              "      <td>756</td>\n",
              "      <td>2549</td>\n",
              "      <td>9</td>\n",
              "      <td>7</td>\n",
              "      <td>19</td>\n",
              "      <td>0</td>\n",
              "      <td>0</td>\n",
              "      <td>1</td>\n",
              "      <td>1</td>\n",
              "    </tr>\n",
              "    <tr>\n",
              "      <th>1</th>\n",
              "      <td>1021</td>\n",
              "      <td>1</td>\n",
              "      <td>0.5</td>\n",
              "      <td>1</td>\n",
              "      <td>0</td>\n",
              "      <td>1</td>\n",
              "      <td>53</td>\n",
              "      <td>0.7</td>\n",
              "      <td>136</td>\n",
              "      <td>3</td>\n",
              "      <td>...</td>\n",
              "      <td>905</td>\n",
              "      <td>1988</td>\n",
              "      <td>2631</td>\n",
              "      <td>17</td>\n",
              "      <td>3</td>\n",
              "      <td>7</td>\n",
              "      <td>1</td>\n",
              "      <td>1</td>\n",
              "      <td>0</td>\n",
              "      <td>2</td>\n",
              "    </tr>\n",
              "    <tr>\n",
              "      <th>2</th>\n",
              "      <td>563</td>\n",
              "      <td>1</td>\n",
              "      <td>0.5</td>\n",
              "      <td>1</td>\n",
              "      <td>2</td>\n",
              "      <td>1</td>\n",
              "      <td>41</td>\n",
              "      <td>0.9</td>\n",
              "      <td>145</td>\n",
              "      <td>5</td>\n",
              "      <td>...</td>\n",
              "      <td>1263</td>\n",
              "      <td>1716</td>\n",
              "      <td>2603</td>\n",
              "      <td>11</td>\n",
              "      <td>2</td>\n",
              "      <td>9</td>\n",
              "      <td>1</td>\n",
              "      <td>1</td>\n",
              "      <td>0</td>\n",
              "      <td>2</td>\n",
              "    </tr>\n",
              "    <tr>\n",
              "      <th>3</th>\n",
              "      <td>615</td>\n",
              "      <td>1</td>\n",
              "      <td>2.5</td>\n",
              "      <td>0</td>\n",
              "      <td>0</td>\n",
              "      <td>0</td>\n",
              "      <td>10</td>\n",
              "      <td>0.8</td>\n",
              "      <td>131</td>\n",
              "      <td>6</td>\n",
              "      <td>...</td>\n",
              "      <td>1216</td>\n",
              "      <td>1786</td>\n",
              "      <td>2769</td>\n",
              "      <td>16</td>\n",
              "      <td>8</td>\n",
              "      <td>11</td>\n",
              "      <td>1</td>\n",
              "      <td>0</td>\n",
              "      <td>0</td>\n",
              "      <td>2</td>\n",
              "    </tr>\n",
              "    <tr>\n",
              "      <th>4</th>\n",
              "      <td>1821</td>\n",
              "      <td>1</td>\n",
              "      <td>1.2</td>\n",
              "      <td>0</td>\n",
              "      <td>13</td>\n",
              "      <td>1</td>\n",
              "      <td>44</td>\n",
              "      <td>0.6</td>\n",
              "      <td>141</td>\n",
              "      <td>2</td>\n",
              "      <td>...</td>\n",
              "      <td>1208</td>\n",
              "      <td>1212</td>\n",
              "      <td>1411</td>\n",
              "      <td>8</td>\n",
              "      <td>2</td>\n",
              "      <td>15</td>\n",
              "      <td>1</td>\n",
              "      <td>1</td>\n",
              "      <td>0</td>\n",
              "      <td>1</td>\n",
              "    </tr>\n",
              "  </tbody>\n",
              "</table>\n",
              "<p>5 rows × 21 columns</p>\n",
              "</div>"
            ],
            "text/plain": [
              "   battery_power  blue  clock_speed  dual_sim  fc  four_g  int_memory  m_dep  \\\n",
              "0            842     0          2.2         0   1       0           7    0.6   \n",
              "1           1021     1          0.5         1   0       1          53    0.7   \n",
              "2            563     1          0.5         1   2       1          41    0.9   \n",
              "3            615     1          2.5         0   0       0          10    0.8   \n",
              "4           1821     1          1.2         0  13       1          44    0.6   \n",
              "\n",
              "   mobile_wt  n_cores  ...  px_height  px_width   ram  sc_h  sc_w  talk_time  \\\n",
              "0        188        2  ...         20       756  2549     9     7         19   \n",
              "1        136        3  ...        905      1988  2631    17     3          7   \n",
              "2        145        5  ...       1263      1716  2603    11     2          9   \n",
              "3        131        6  ...       1216      1786  2769    16     8         11   \n",
              "4        141        2  ...       1208      1212  1411     8     2         15   \n",
              "\n",
              "   three_g  touch_screen  wifi  price_range  \n",
              "0        0             0     1            1  \n",
              "1        1             1     0            2  \n",
              "2        1             1     0            2  \n",
              "3        1             0     0            2  \n",
              "4        1             1     0            1  \n",
              "\n",
              "[5 rows x 21 columns]"
            ]
          },
          "execution_count": 2,
          "metadata": {},
          "output_type": "execute_result"
        }
      ],
      "source": [
        "bd = pd.read_csv(\"/Users/leolamoureux/FAC/TER/projet_TER_machine_learning/Datasets/phone_price.csv\")\n",
        "bd.head()"
      ]
    },
    {
      "cell_type": "code",
      "execution_count": 3,
      "metadata": {},
      "outputs": [
        {
          "data": {
            "text/plain": [
              "0        2\n",
              "1        6\n",
              "2        6\n",
              "3        9\n",
              "4       14\n",
              "        ..\n",
              "1995    14\n",
              "1996     3\n",
              "1997     3\n",
              "1998     5\n",
              "1999    16\n",
              "Name: pc, Length: 2000, dtype: int64"
            ]
          },
          "execution_count": 3,
          "metadata": {},
          "output_type": "execute_result"
        }
      ],
      "source": [
        "bd['pc']"
      ]
    },
    {
      "cell_type": "code",
      "execution_count": 4,
      "metadata": {
        "colab": {
          "base_uri": "https://localhost:8080/"
        },
        "id": "UBctGYF_K2Oe",
        "outputId": "ad711eec-153d-464c-c9a6-4ccc4a98c646"
      },
      "outputs": [
        {
          "data": {
            "text/plain": [
              "battery_power    0\n",
              "px_height        0\n",
              "wifi             0\n",
              "touch_screen     0\n",
              "three_g          0\n",
              "talk_time        0\n",
              "sc_w             0\n",
              "sc_h             0\n",
              "ram              0\n",
              "px_width         0\n",
              "pc               0\n",
              "blue             0\n",
              "n_cores          0\n",
              "mobile_wt        0\n",
              "m_dep            0\n",
              "int_memory       0\n",
              "four_g           0\n",
              "fc               0\n",
              "dual_sim         0\n",
              "clock_speed      0\n",
              "price_range      0\n",
              "dtype: int64"
            ]
          },
          "execution_count": 4,
          "metadata": {},
          "output_type": "execute_result"
        }
      ],
      "source": [
        "#on vérifie si des données sont manquantes\n",
        "bd.isnull().sum().sort_values(ascending=False)"
      ]
    },
    {
      "cell_type": "code",
      "execution_count": 5,
      "metadata": {
        "id": "c2xo348cwruS"
      },
      "outputs": [],
      "source": [
        "#la cible est la catégorie de prix\n",
        "target = bd['price_range']\n",
        "bd.drop('price_range',axis=1,inplace=True)"
      ]
    },
    {
      "cell_type": "code",
      "execution_count": 6,
      "metadata": {
        "colab": {
          "base_uri": "https://localhost:8080/"
        },
        "id": "vZD3WDihYPHe",
        "outputId": "8b7014dc-2bf1-4fad-9182-25cbc3c9c950"
      },
      "outputs": [
        {
          "name": "stdout",
          "output_type": "stream",
          "text": [
            "précision test = 88.50%\n",
            "précision train = 100.00%\n"
          ]
        }
      ],
      "source": [
        "algo = RandomForestClassifier()\n",
        "X_train,X_test,y_train,y_test = train_test_split(bd,target, stratify = target, test_size = 0.2)\n",
        "algo.fit(X_train,y_train)\n",
        "print(f\"précision test = {algo.score(X_test,y_test)*100:.2f}%\")\n",
        "print(f\"précision train = {algo.score(X_train,y_train)*100:.2f}%\")"
      ]
    },
    {
      "cell_type": "code",
      "execution_count": 7,
      "metadata": {},
      "outputs": [
        {
          "name": "stderr",
          "output_type": "stream",
          "text": [
            "/opt/homebrew/lib/python3.9/site-packages/sklearn/base.py:450: UserWarning: X does not have valid feature names, but RandomForestClassifier was fitted with feature names\n",
            "  warnings.warn(\n"
          ]
        },
        {
          "data": {
            "text/plain": [
              "array([0])"
            ]
          },
          "execution_count": 7,
          "metadata": {},
          "output_type": "execute_result"
        }
      ],
      "source": [
        "array=[3,  3,  9,  9,  9,  9,  9,  9,  9,  9,  9,  0,  0,  9,  0,  9,  9,\n",
        "  9,  0,  9,]\n",
        "algo.predict([array])"
      ]
    },
    {
      "cell_type": "code",
      "execution_count": 8,
      "metadata": {
        "colab": {
          "base_uri": "https://localhost:8080/",
          "height": 357
        },
        "id": "_VkhUAeB9xfb",
        "outputId": "31598176-081d-48ff-8db6-409fcb119099"
      },
      "outputs": [
        {
          "name": "stdout",
          "output_type": "stream",
          "text": [
            "précision moyenne de 87.45% avec marge d'erreur de 2.11%\n",
            "\n"
          ]
        },
        {
          "data": {
            "text/plain": [
              "<BarContainer object of 5 artists>"
            ]
          },
          "execution_count": 8,
          "metadata": {},
          "output_type": "execute_result"
        },
        {
          "data": {
            "image/png": "[encoded data removed]",
            "text/plain": [
              "<Figure size 432x288 with 1 Axes>"
            ]
          },
          "metadata": {
            "needs_background": "light"
          },
          "output_type": "display_data"
        }
      ],
      "source": [
        "nb_cv = StratifiedKFold(5)\n",
        "\n",
        "scores = cross_val_score(RandomForestClassifier(),bd,target, cv = nb_cv)\n",
        "print(f\"précision moyenne de {scores.mean()*100:.2f}% avec marge d'erreur de {scores.std()*100:.2f}%\\n\")\n",
        "plt.suptitle(\"précisions avec différentes découpes de train et test\")\n",
        "plt.xlabel(\"numéro de split\")\n",
        "plt.ylabel(\"Précision\")\n",
        "plt.bar([0,1,2,3,4],scores)"
      ]
    },
    {
      "cell_type": "code",
      "execution_count": 9,
      "metadata": {
        "colab": {
          "base_uri": "https://localhost:8080/",
          "height": 296
        },
        "id": "Xcq00pjarTtD",
        "outputId": "3f0414d4-eaad-4dcf-f2b2-d34897baf8bc"
      },
      "outputs": [
        {
          "data": {
            "text/plain": [
              "[<matplotlib.lines.Line2D at 0x16a9884c0>]"
            ]
          },
          "execution_count": 9,
          "metadata": {},
          "output_type": "execute_result"
        },
        {
          "data": {
            "image/png": "[encoded data removed]",
            "text/plain": [
              "<Figure size 432x288 with 1 Axes>"
            ]
          },
          "metadata": {
            "needs_background": "light"
          },
          "output_type": "display_data"
        }
      ],
      "source": [
        "n_estimators = [1, 2, 4, 8, 15, 30, 70, 100, 200]\n",
        "precisions = []\n",
        "for i in n_estimators:\n",
        "  moy = []\n",
        "  for j in range(10):\n",
        "    X_train,X_test,y_train,y_test = train_test_split(bd,target, test_size = 0.2)\n",
        "    algo = RandomForestClassifier(n_estimators = i)\n",
        "    algo.fit(X_train,y_train)\n",
        "    moy.append(algo.score(X_test,y_test)*100)\n",
        "  precisions.append(statistics.mean(moy))\n",
        "\n",
        "plt.xlabel(\"n_estimators\")\n",
        "plt.ylabel(\"précision en %\")\n",
        "plt.plot(n_estimators, precisions)"
      ]
    },
    {
      "cell_type": "code",
      "execution_count": 10,
      "metadata": {
        "id": "pz31GFhBrjcT"
      },
      "outputs": [
        {
          "data": {
            "text/plain": [
              "[<matplotlib.lines.Line2D at 0x16a9fd190>]"
            ]
          },
          "execution_count": 10,
          "metadata": {},
          "output_type": "execute_result"
        },
        {
          "data": {
            "image/png": "[encoded data removed]",
            "text/plain": [
              "<Figure size 432x288 with 1 Axes>"
            ]
          },
          "metadata": {
            "needs_background": "light"
          },
          "output_type": "display_data"
        }
      ],
      "source": [
        "max_depth = [1, 2, 4, 8, 15, 50, 100]\n",
        "precisions = []\n",
        "for i in max_depth:\n",
        "  moy = []\n",
        "  for j in range(10):\n",
        "    X_train,X_test,y_train,y_test = train_test_split(bd,target, test_size = 0.2)\n",
        "    algo = RandomForestClassifier(max_depth = i)\n",
        "    algo.fit(X_train,y_train)\n",
        "    moy.append(algo.score(X_test,y_test)*100)\n",
        "  precisions.append(statistics.mean(moy))\n",
        "\n",
        "plt.xlabel(\"max_depth\")\n",
        "plt.ylabel(\"précision en %\")\n",
        "plt.plot(max_depth, precisions)"
      ]
    },
    {
      "cell_type": "code",
      "execution_count": 11,
      "metadata": {
        "id": "0g268_6Prp4h"
      },
      "outputs": [
        {
          "data": {
            "text/plain": [
              "[<matplotlib.lines.Line2D at 0x16aa5b8e0>]"
            ]
          },
          "execution_count": 11,
          "metadata": {},
          "output_type": "execute_result"
        },
        {
          "data": {
            "image/png": "[encoded data removed]",
            "text/plain": [
              "<Figure size 432x288 with 1 Axes>"
            ]
          },
          "metadata": {
            "needs_background": "light"
          },
          "output_type": "display_data"
        }
      ],
      "source": [
        "max_samples = [0.05,0.2,0.5,0.9] #pourcentage de la taille du dataset\n",
        "precisions = []\n",
        "for i in max_samples:\n",
        "  moy = []\n",
        "  for j in range(10):\n",
        "    X_train,X_test,y_train,y_test = train_test_split(bd,target, test_size = 0.2)\n",
        "    algo = RandomForestClassifier(max_samples = i)\n",
        "    algo.fit(X_train,y_train)\n",
        "    moy.append(algo.score(X_test,y_test)*100)\n",
        "  precisions.append(statistics.mean(moy))\n",
        "\n",
        "plt.xlabel(\"max_samples\")\n",
        "plt.ylabel(\"précision en %\")\n",
        "plt.plot(max_samples, precisions)"
      ]
    },
    {
      "cell_type": "code",
      "execution_count": 12,
      "metadata": {
        "colab": {
          "base_uri": "https://localhost:8080/",
          "height": 296
        },
        "id": "CwWSYsf3rxPQ",
        "outputId": "340174b9-3b8d-4266-ca54-93e2f14d7984"
      },
      "outputs": [
        {
          "data": {
            "text/plain": [
              "[<matplotlib.lines.Line2D at 0x16aabefd0>]"
            ]
          },
          "execution_count": 12,
          "metadata": {},
          "output_type": "execute_result"
        },
        {
          "data": {
            "image/png": "[encoded data removed]",
            "text/plain": [
              "<Figure size 432x288 with 1 Axes>"
            ]
          },
          "metadata": {
            "needs_background": "light"
          },
          "output_type": "display_data"
        }
      ],
      "source": [
        "max_leaf_nodes = [2, 5, 15, 50, 100, 200]\n",
        "precisions = []\n",
        "for i in max_leaf_nodes:\n",
        "  moy = []\n",
        "  for j in range(10):\n",
        "    X_train,X_test,y_train,y_test = train_test_split(bd,target, test_size = 0.2)\n",
        "    algo = RandomForestClassifier(max_leaf_nodes = i)\n",
        "    algo.fit(X_train,y_train)\n",
        "    moy.append(algo.score(X_test,y_test)*100)\n",
        "  precisions.append(statistics.mean(moy))\n",
        "\n",
        "plt.xlabel(\"max_leaf_nodes\")\n",
        "plt.ylabel(\"précision en %\")\n",
        "plt.plot(max_leaf_nodes, precisions)"
      ]
    },
    {
      "cell_type": "code",
      "execution_count": 13,
      "metadata": {
        "id": "Hb8Apx5lr2lJ"
      },
      "outputs": [
        {
          "name": "stdout",
          "output_type": "stream",
          "text": [
            "{'max_depth': 20, 'max_leaf_nodes': 200, 'max_samples': 0.8, 'n_estimators': 150}\n",
            "précision test = 0.88%\n",
            "accuracy_score :88.00% de prédictions correctes\n",
            "recall_score :88.00% de positifs bien prédits par le modèle\n"
          ]
        }
      ],
      "source": [
        "X_train,X_test,y_train,y_test = train_test_split(bd,target, test_size = 0.2)\n",
        "params = {'n_estimators' : [70, 80, 90, 100, 150, 200],\n",
        "          'max_depth': [None, 10, 15, 20, 25, 50],\n",
        "          'max_samples': [None, 0.8, 0.85, 0.9, 0.95],\n",
        "          'max_leaf_nodes': [None, 80, 90, 100, 110, 150, 200]}\n",
        "\n",
        "algo = GridSearchCV(RandomForestClassifier(), params, cv = 5)\n",
        "\n",
        "algo.fit(X_train,y_train)\n",
        "print(algo.best_params_)\n",
        "print(f\"précision test = {algo.score(X_test,y_test)}%\")\n",
        "\n",
        "print(f\"accuracy_score :{accuracy_score(y_test,algo.predict(X_test))*100:.2f}% de prédictions correctes\")\n",
        "print(f\"recall_score :{recall_score(y_test,algo.predict(X_test),average='micro')*100:.2f}% de positifs bien prédits par le modèle\")"
      ]
    },
    {
      "cell_type": "markdown",
      "metadata": {
        "id": "OlzjcfF5DHLX"
      },
      "source": [
        "#  2 - REGRESSION\n",
        "DATASET : Prix des laptops\n",
        "\n",
        "---"
      ]
    },
    {
      "cell_type": "code",
      "execution_count": 14,
      "metadata": {
        "colab": {
          "base_uri": "https://localhost:8080/",
          "height": 327
        },
        "id": "LeiRwaLxHt7S",
        "outputId": "d13f9d58-9110-4ff1-fcca-9e65798b8686"
      },
      "outputs": [
        {
          "data": {
            "text/html": [
              "<div>\n",
              "<style scoped>\n",
              "    .dataframe tbody tr th:only-of-type {\n",
              "        vertical-align: middle;\n",
              "    }\n",
              "\n",
              "    .dataframe tbody tr th {\n",
              "        vertical-align: top;\n",
              "    }\n",
              "\n",
              "    .dataframe thead th {\n",
              "        text-align: right;\n",
              "    }\n",
              "</style>\n",
              "<table border=\"1\" class=\"dataframe\">\n",
              "  <thead>\n",
              "    <tr style=\"text-align: right;\">\n",
              "      <th></th>\n",
              "      <th>laptop_ID</th>\n",
              "      <th>Company</th>\n",
              "      <th>Product</th>\n",
              "      <th>TypeName</th>\n",
              "      <th>Inches</th>\n",
              "      <th>ScreenResolution</th>\n",
              "      <th>Cpu</th>\n",
              "      <th>Ram</th>\n",
              "      <th>Memory</th>\n",
              "      <th>Gpu</th>\n",
              "      <th>OpSys</th>\n",
              "      <th>Weight</th>\n",
              "      <th>Price_euros</th>\n",
              "    </tr>\n",
              "  </thead>\n",
              "  <tbody>\n",
              "    <tr>\n",
              "      <th>0</th>\n",
              "      <td>1</td>\n",
              "      <td>Apple</td>\n",
              "      <td>MacBook Pro</td>\n",
              "      <td>Ultrabook</td>\n",
              "      <td>13.3</td>\n",
              "      <td>IPS Panel Retina Display 2560x1600</td>\n",
              "      <td>Intel Core i5 2.3GHz</td>\n",
              "      <td>8GB</td>\n",
              "      <td>128GB SSD</td>\n",
              "      <td>Intel Iris Plus Graphics 640</td>\n",
              "      <td>macOS</td>\n",
              "      <td>1.37kg</td>\n",
              "      <td>1339.69</td>\n",
              "    </tr>\n",
              "    <tr>\n",
              "      <th>1</th>\n",
              "      <td>2</td>\n",
              "      <td>Apple</td>\n",
              "      <td>Macbook Air</td>\n",
              "      <td>Ultrabook</td>\n",
              "      <td>13.3</td>\n",
              "      <td>1440x900</td>\n",
              "      <td>Intel Core i5 1.8GHz</td>\n",
              "      <td>8GB</td>\n",
              "      <td>128GB Flash Storage</td>\n",
              "      <td>Intel HD Graphics 6000</td>\n",
              "      <td>macOS</td>\n",
              "      <td>1.34kg</td>\n",
              "      <td>898.94</td>\n",
              "    </tr>\n",
              "    <tr>\n",
              "      <th>2</th>\n",
              "      <td>3</td>\n",
              "      <td>HP</td>\n",
              "      <td>250 G6</td>\n",
              "      <td>Notebook</td>\n",
              "      <td>15.6</td>\n",
              "      <td>Full HD 1920x1080</td>\n",
              "      <td>Intel Core i5 7200U 2.5GHz</td>\n",
              "      <td>8GB</td>\n",
              "      <td>256GB SSD</td>\n",
              "      <td>Intel HD Graphics 620</td>\n",
              "      <td>No OS</td>\n",
              "      <td>1.86kg</td>\n",
              "      <td>575.00</td>\n",
              "    </tr>\n",
              "    <tr>\n",
              "      <th>3</th>\n",
              "      <td>4</td>\n",
              "      <td>Apple</td>\n",
              "      <td>MacBook Pro</td>\n",
              "      <td>Ultrabook</td>\n",
              "      <td>15.4</td>\n",
              "      <td>IPS Panel Retina Display 2880x1800</td>\n",
              "      <td>Intel Core i7 2.7GHz</td>\n",
              "      <td>16GB</td>\n",
              "      <td>512GB SSD</td>\n",
              "      <td>AMD Radeon Pro 455</td>\n",
              "      <td>macOS</td>\n",
              "      <td>1.83kg</td>\n",
              "      <td>2537.45</td>\n",
              "    </tr>\n",
              "    <tr>\n",
              "      <th>4</th>\n",
              "      <td>5</td>\n",
              "      <td>Apple</td>\n",
              "      <td>MacBook Pro</td>\n",
              "      <td>Ultrabook</td>\n",
              "      <td>13.3</td>\n",
              "      <td>IPS Panel Retina Display 2560x1600</td>\n",
              "      <td>Intel Core i5 3.1GHz</td>\n",
              "      <td>8GB</td>\n",
              "      <td>256GB SSD</td>\n",
              "      <td>Intel Iris Plus Graphics 650</td>\n",
              "      <td>macOS</td>\n",
              "      <td>1.37kg</td>\n",
              "      <td>1803.60</td>\n",
              "    </tr>\n",
              "  </tbody>\n",
              "</table>\n",
              "</div>"
            ],
            "text/plain": [
              "   laptop_ID Company      Product   TypeName  Inches  \\\n",
              "0          1   Apple  MacBook Pro  Ultrabook    13.3   \n",
              "1          2   Apple  Macbook Air  Ultrabook    13.3   \n",
              "2          3      HP       250 G6   Notebook    15.6   \n",
              "3          4   Apple  MacBook Pro  Ultrabook    15.4   \n",
              "4          5   Apple  MacBook Pro  Ultrabook    13.3   \n",
              "\n",
              "                     ScreenResolution                         Cpu   Ram  \\\n",
              "0  IPS Panel Retina Display 2560x1600        Intel Core i5 2.3GHz   8GB   \n",
              "1                            1440x900        Intel Core i5 1.8GHz   8GB   \n",
              "2                   Full HD 1920x1080  Intel Core i5 7200U 2.5GHz   8GB   \n",
              "3  IPS Panel Retina Display 2880x1800        Intel Core i7 2.7GHz  16GB   \n",
              "4  IPS Panel Retina Display 2560x1600        Intel Core i5 3.1GHz   8GB   \n",
              "\n",
              "                Memory                           Gpu  OpSys  Weight  \\\n",
              "0            128GB SSD  Intel Iris Plus Graphics 640  macOS  1.37kg   \n",
              "1  128GB Flash Storage        Intel HD Graphics 6000  macOS  1.34kg   \n",
              "2            256GB SSD         Intel HD Graphics 620  No OS  1.86kg   \n",
              "3            512GB SSD            AMD Radeon Pro 455  macOS  1.83kg   \n",
              "4            256GB SSD  Intel Iris Plus Graphics 650  macOS  1.37kg   \n",
              "\n",
              "   Price_euros  \n",
              "0      1339.69  \n",
              "1       898.94  \n",
              "2       575.00  \n",
              "3      2537.45  \n",
              "4      1803.60  "
            ]
          },
          "execution_count": 14,
          "metadata": {},
          "output_type": "execute_result"
        }
      ],
      "source": [
        "pl = pd.read_csv(\"/Users/leolamoureux/FAC/TER/projet_TER_machine_learning/Datasets/laptop_price.csv\",encoding='latin-1')\n",
        "pl.head()"
      ]
    },
    {
      "cell_type": "code",
      "execution_count": 15,
      "metadata": {
        "colab": {
          "base_uri": "https://localhost:8080/"
        },
        "id": "ngQ8cwoenu2B",
        "outputId": "82f541ea-33dc-4e25-992c-963dd640ee9f"
      },
      "outputs": [
        {
          "data": {
            "text/plain": [
              "laptop_ID           0\n",
              "Company             0\n",
              "Product             0\n",
              "TypeName            0\n",
              "Inches              0\n",
              "ScreenResolution    0\n",
              "Cpu                 0\n",
              "Ram                 0\n",
              "Memory              0\n",
              "Gpu                 0\n",
              "OpSys               0\n",
              "Weight              0\n",
              "Price_euros         0\n",
              "dtype: int64"
            ]
          },
          "execution_count": 15,
          "metadata": {},
          "output_type": "execute_result"
        }
      ],
      "source": [
        "#on vérifie si des données sont manquantes\n",
        "pl.isnull().sum().sort_values(ascending=False)"
      ]
    },
    {
      "cell_type": "code",
      "execution_count": 16,
      "metadata": {
        "id": "7c9b3NEM6afw"
      },
      "outputs": [],
      "source": [
        "#On remplace les valeurs catégorique par des valeurs numériques\n",
        "for t in pl.columns:\n",
        " map_values={}\n",
        " cmpt = 0\n",
        " if pl[t].dtype == object:\n",
        "  for i in pl[t].unique():\n",
        "    map_values[i] = cmpt\n",
        "    cmpt += 1\n",
        "  pl[t] = pl[t].map(map_values)"
      ]
    },
    {
      "cell_type": "code",
      "execution_count": 17,
      "metadata": {
        "colab": {
          "base_uri": "https://localhost:8080/",
          "height": 268
        },
        "id": "NehA6GZ5vy2c",
        "outputId": "0d0842ff-8690-4e28-c0eb-a027aaec06a0"
      },
      "outputs": [
        {
          "data": {
            "text/plain": [
              "<AxesSubplot:ylabel='Price_euros'>"
            ]
          },
          "execution_count": 17,
          "metadata": {},
          "output_type": "execute_result"
        },
        {
          "data": {
            "image/png": "[encoded data removed]",
            "text/plain": [
              "<Figure size 432x288 with 1 Axes>"
            ]
          },
          "metadata": {
            "needs_background": "light"
          },
          "output_type": "display_data"
        }
      ],
      "source": [
        "#on voit qu'il y a des valeurs aberrantes\n",
        "sbn.boxplot(y=pl['Price_euros'],data=pl)"
      ]
    },
    {
      "cell_type": "code",
      "execution_count": 18,
      "metadata": {
        "id": "_D62bBFt-bmI"
      },
      "outputs": [],
      "source": [
        "#fct qui trouve toutes les données aberrantes pour une colonne\n",
        "def trouver_prix_aberrants(data,var):\n",
        "  iqr=data[var].quantile(0.75)-data[var].quantile(0.25)\n",
        "  Q1=data[var].quantile(0.25)\n",
        "  Q3=data[var].quantile(0.75)\n",
        "  upper=Q3+1.5*iqr\n",
        "  lower=Q1-1.5*iqr\n",
        "  return data[(data[var]<lower)|(data[var]>upper)].laptop_ID"
      ]
    },
    {
      "cell_type": "code",
      "execution_count": 19,
      "metadata": {
        "colab": {
          "base_uri": "https://localhost:8080/"
        },
        "id": "5oFgA7WO1NdH",
        "outputId": "0bda6f4c-0141-49e1-8642-e90de83a4ced"
      },
      "outputs": [
        {
          "data": {
            "text/plain": [
              "29"
            ]
          },
          "execution_count": 19,
          "metadata": {},
          "output_type": "execute_result"
        }
      ],
      "source": [
        "#on supprime les données aberrantes\n",
        "aberrants = trouver_prix_aberrants(pl,'Price_euros').tolist()\n",
        "len(aberrants)#peu nombreuse les enlever n'affectera pas le modèle"
      ]
    },
    {
      "cell_type": "code",
      "execution_count": 20,
      "metadata": {
        "id": "iE6RTU_x4c-s"
      },
      "outputs": [],
      "source": [
        "while len(aberrants) != 0:\n",
        "  aberrants = trouver_prix_aberrants(pl,'Price_euros').tolist()\n",
        "  for i in aberrants:\n",
        "    pl.drop(pl[pl['laptop_ID'] == i].index,inplace=True)"
      ]
    },
    {
      "cell_type": "code",
      "execution_count": 21,
      "metadata": {
        "colab": {
          "base_uri": "https://localhost:8080/",
          "height": 268
        },
        "id": "1lKh3Ramwhvy",
        "outputId": "ccadd716-6f3c-4341-89be-4de9562eadf8"
      },
      "outputs": [
        {
          "data": {
            "text/plain": [
              "<AxesSubplot:ylabel='Price_euros'>"
            ]
          },
          "execution_count": 21,
          "metadata": {},
          "output_type": "execute_result"
        },
        {
          "data": {
            "image/png": "[encoded data removed]",
            "text/plain": [
              "<Figure size 432x288 with 1 Axes>"
            ]
          },
          "metadata": {
            "needs_background": "light"
          },
          "output_type": "display_data"
        }
      ],
      "source": [
        "#plus de valeurs aberrantes\n",
        "sbn.boxplot(y=pl['Price_euros'],data=pl)"
      ]
    },
    {
      "cell_type": "code",
      "execution_count": 22,
      "metadata": {
        "id": "wM6ONVrJ2A72"
      },
      "outputs": [],
      "source": [
        "#la cible à prédire c'est le prix du laptop\n",
        "target = pl['Price_euros']\n",
        "pl.drop('Price_euros',axis=1,inplace=True)\n",
        "pl.drop('laptop_ID',axis=1,inplace=True)#inutile"
      ]
    },
    {
      "cell_type": "code",
      "execution_count": 23,
      "metadata": {
        "colab": {
          "base_uri": "https://localhost:8080/"
        },
        "id": "Z0xmfeMFmTqh",
        "outputId": "c5271c0e-b37d-4c09-900d-943babb2d18c"
      },
      "outputs": [
        {
          "name": "stdout",
          "output_type": "stream",
          "text": [
            "précision avec les paramètres pas défault = 81.68%\n"
          ]
        }
      ],
      "source": [
        "#Test du modèle avec les valeurs par default\n",
        "X_train,X_test,y_train,y_test = train_test_split(pl,target, test_size = 0.2)\n",
        "algo = RandomForestRegressor()\n",
        "algo.fit(X_train,y_train)\n",
        "print(f\"précision avec les paramètres pas défault = {r2_score(y_test,algo.predict(X_test))*100:.2f}%\")"
      ]
    },
    {
      "cell_type": "code",
      "execution_count": 24,
      "metadata": {
        "colab": {
          "base_uri": "https://localhost:8080/",
          "height": 296
        },
        "id": "iJYjwl4teW-c",
        "outputId": "2b9dfa16-d47a-4e4b-e3a5-ce7df386410a"
      },
      "outputs": [
        {
          "data": {
            "text/plain": [
              "[<matplotlib.lines.Line2D at 0x16aafadc0>]"
            ]
          },
          "execution_count": 24,
          "metadata": {},
          "output_type": "execute_result"
        },
        {
          "data": {
            "image/png": "[encoded data removed]",
            "text/plain": [
              "<Figure size 432x288 with 1 Axes>"
            ]
          },
          "metadata": {
            "needs_background": "light"
          },
          "output_type": "display_data"
        }
      ],
      "source": [
        "n_estimators = [1, 2, 4, 8, 15, 30, 70, 100, 200]\n",
        "precisions = []\n",
        "for i in n_estimators:\n",
        "  moy = []\n",
        "  for j in range(10):\n",
        "    X_train,X_test,y_train,y_test = train_test_split(pl,target, test_size = 0.2)\n",
        "    algo = RandomForestRegressor(n_estimators = i)\n",
        "    algo.fit(X_train,y_train)\n",
        "    moy.append(r2_score(y_test,algo.predict(X_test))*100)\n",
        "  precisions.append(statistics.mean(moy))\n",
        "\n",
        "plt.xlabel(\"n_estimators\")\n",
        "plt.ylabel(\"précision en %\")\n",
        "plt.plot(n_estimators, precisions)"
      ]
    },
    {
      "cell_type": "code",
      "execution_count": 25,
      "metadata": {
        "colab": {
          "base_uri": "https://localhost:8080/",
          "height": 296
        },
        "id": "84kBEkdMf9LO",
        "outputId": "208fc48f-72e2-441b-c84e-cfe17280aee4"
      },
      "outputs": [
        {
          "data": {
            "text/plain": [
              "[<matplotlib.lines.Line2D at 0x16ab848e0>]"
            ]
          },
          "execution_count": 25,
          "metadata": {},
          "output_type": "execute_result"
        },
        {
          "data": {
            "image/png": "[encoded data removed]",
            "text/plain": [
              "<Figure size 432x288 with 1 Axes>"
            ]
          },
          "metadata": {
            "needs_background": "light"
          },
          "output_type": "display_data"
        }
      ],
      "source": [
        "max_depth = [1, 2, 4, 8, 15, 50]\n",
        "precisions = []\n",
        "for i in max_depth:\n",
        "  moy = []\n",
        "  for j in range(10):\n",
        "    X_train,X_test,y_train,y_test = train_test_split(pl,target, test_size = 0.2)\n",
        "    algo = RandomForestRegressor(max_depth = i)\n",
        "    algo.fit(X_train,y_train)\n",
        "    moy.append(r2_score(y_test,algo.predict(X_test))*100)\n",
        "  precisions.append(statistics.mean(moy))\n",
        "\n",
        "plt.xlabel(\"max_depth\")\n",
        "plt.ylabel(\"précision en %\")\n",
        "plt.plot(max_depth, precisions)"
      ]
    },
    {
      "cell_type": "code",
      "execution_count": 26,
      "metadata": {
        "colab": {
          "base_uri": "https://localhost:8080/",
          "height": 296
        },
        "id": "7Gc5_zDDh0IC",
        "outputId": "3287c5a5-8bae-4862-e5a9-d86de72f46de"
      },
      "outputs": [
        {
          "data": {
            "text/plain": [
              "[<matplotlib.lines.Line2D at 0x16acd70a0>]"
            ]
          },
          "execution_count": 26,
          "metadata": {},
          "output_type": "execute_result"
        },
        {
          "data": {
            "image/png": "[encoded data removed]",
            "text/plain": [
              "<Figure size 432x288 with 1 Axes>"
            ]
          },
          "metadata": {
            "needs_background": "light"
          },
          "output_type": "display_data"
        }
      ],
      "source": [
        "max_samples = [0.05,0.2,0.5,0.9] #pourcentage de la taille du dataset\n",
        "precisions = []\n",
        "for i in max_samples:\n",
        "  moy = []\n",
        "  for j in range(10):\n",
        "    X_train,X_test,y_train,y_test = train_test_split(pl,target, test_size = 0.2)\n",
        "    algo = RandomForestRegressor(max_samples = i)\n",
        "    algo.fit(X_train,y_train)\n",
        "    moy.append(r2_score(y_test,algo.predict(X_test))*100)\n",
        "  precisions.append(statistics.mean(moy))\n",
        "\n",
        "plt.xlabel(\"max_samples\")\n",
        "plt.ylabel(\"précision en %\")\n",
        "plt.plot(max_samples, precisions)"
      ]
    },
    {
      "cell_type": "code",
      "execution_count": 27,
      "metadata": {
        "colab": {
          "base_uri": "https://localhost:8080/",
          "height": 296
        },
        "id": "BTW9eHbGklZT",
        "outputId": "4c439319-48f5-4a3d-d899-c41bf0d252f8"
      },
      "outputs": [
        {
          "data": {
            "text/plain": [
              "[<matplotlib.lines.Line2D at 0x16acc6fa0>]"
            ]
          },
          "execution_count": 27,
          "metadata": {},
          "output_type": "execute_result"
        },
        {
          "data": {
            "image/png": "[encoded data removed]",
            "text/plain": [
              "<Figure size 432x288 with 1 Axes>"
            ]
          },
          "metadata": {
            "needs_background": "light"
          },
          "output_type": "display_data"
        }
      ],
      "source": [
        "max_leaf_nodes = [2, 5, 15, 50, 100, 200]\n",
        "precisions = []\n",
        "for i in max_leaf_nodes:\n",
        "  moy = []\n",
        "  for j in range(10):\n",
        "    X_train,X_test,y_train,y_test = train_test_split(pl,target, test_size = 0.2)\n",
        "    algo = RandomForestRegressor(max_leaf_nodes = i)\n",
        "    algo.fit(X_train,y_train)\n",
        "    moy.append(r2_score(y_test,algo.predict(X_test))*100)\n",
        "  precisions.append(statistics.mean(moy))\n",
        "\n",
        "plt.xlabel(\"max_leaf_nodes\")\n",
        "plt.ylabel(\"précision en %\")\n",
        "plt.plot(max_leaf_nodes, precisions)"
      ]
    },
    {
      "cell_type": "code",
      "execution_count": 28,
      "metadata": {
        "colab": {
          "base_uri": "https://localhost:8080/",
          "height": 364
        },
        "id": "O_36AupQx9WN",
        "outputId": "ebcf0e1f-12b9-4bf8-8606-51f84951eaed"
      },
      "outputs": [
        {
          "name": "stdout",
          "output_type": "stream",
          "text": [
            "{'max_depth': 20, 'max_leaf_nodes': None, 'max_samples': None, 'n_estimators': 90}\n",
            "précision test = 0.7800114718741553%\n",
            "RMSE = 287.56, moyenne des observation = 1115.95\n",
            "RMSE correspond à 25.77% des observations\n",
            "\n",
            "r2_score = 78.00%\n"
          ]
        }
      ],
      "source": [
        "X_train,X_test,y_train,y_test = train_test_split(pl,target, test_size = 0.2)\n",
        "params = {'n_estimators' : [70, 80, 90, 100, 150, 200],\n",
        "          'max_depth': [None, 10, 15, 20, 25, 50],\n",
        "          'max_samples': [None, 0.8, 0.85, 0.9, 0.95],\n",
        "          'max_leaf_nodes': [None, 80, 90, 100, 110, 150, 200]}\n",
        "\n",
        "algo = GridSearchCV(RandomForestRegressor(), params, cv = 5)\n",
        "\n",
        "algo.fit(X_train,y_train)\n",
        "print(algo.best_params_)\n",
        "print(f\"précision test = {algo.score(X_test,y_test)}%\")\n",
        "\n",
        "RMSE = math.sqrt(mean_squared_error(y_test,algo.predict(X_test)))\n",
        "print(f\"RMSE = {RMSE:.2f}, moyenne des observation = {statistics.mean(y_test):.2f}\")\n",
        "print(f\"RMSE correspond à {(RMSE*100) / statistics.mean(y_test):.2f}% des observations\\n\")\n",
        "print(f\"r2_score = {r2_score(y_test,algo.predict(X_test))*100:.2f}%\")"
      ]
    }
  ],
  "metadata": {
    "colab": {
      "collapsed_sections": [],
      "name": "[TER]_ETAPE_5-3.ipynb",
      "provenance": []
    },
    "interpreter": {
      "hash": "b0fa6594d8f4cbf19f97940f81e996739fb7646882a419484c72d19e05852a7e"
    },
    "kernelspec": {
      "display_name": "Python 3.9.10 64-bit",
      "language": "python",
      "name": "python3"
    },
    "language_info": {
      "codemirror_mode": {
        "name": "ipython",
        "version": 3
      },
      "file_extension": ".py",
      "mimetype": "text/x-python",
      "name": "python",
      "nbconvert_exporter": "python",
      "pygments_lexer": "ipython3",
      "version": "3.9.10"
    }
  },
  "nbformat": 4,
  "nbformat_minor": 0
}
