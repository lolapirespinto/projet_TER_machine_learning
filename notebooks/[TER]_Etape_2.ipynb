{
  "cells": [
    {
      "cell_type": "markdown",
      "metadata": {
        "id": "AzzDaq_BgLQF"
      },
      "source": [
        "# [TER] ÉTAPE 2: \n",
        "LAMOUREUX Léo 21602944 --\n",
        "PIRES PINTO Lola 21706287\n",
        "\n",
        "\n",
        "*implémentation des algorithmes avec les paramètres par défault*\n",
        "\n",
        "\n",
        "\n",
        "\n",
        "\n",
        "---\n",
        "\n",
        "\n",
        "\n"
      ]
    },
    {
      "cell_type": "markdown",
      "metadata": {
        "id": "wEoGXaLpdr4e"
      },
      "source": [
        "\n",
        "# ** 1 - CLASSIFICATION, DATASET : BREAST CANCER**\n",
        "\n",
        "---\n",
        "\n"
      ]
    },
    {
      "cell_type": "markdown",
      "metadata": {
        "id": "JA4XFmKihJAa"
      },
      "source": [
        "*CHARGEMENT DES DONNÉES PUIS CONVERSION EN PD.DATAFRAME*"
      ]
    },
    {
      "cell_type": "code",
      "execution_count": 63,
      "metadata": {
        "id": "wxuvEvf7cTtl"
      },
      "outputs": [],
      "source": [
        "from sklearn import datasets\n",
        "import pandas as pd\n",
        "dataset = datasets.load_breast_cancer()\n",
        "df = pd.DataFrame(data = dataset.data, columns = dataset.feature_names)"
      ]
    },
    {
      "cell_type": "code",
      "execution_count": 64,
      "metadata": {
        "id": "t8Sahg6BdDc1"
      },
      "outputs": [],
      "source": [
        "y = dataset.target\n",
        "X = df"
      ]
    },
    {
      "cell_type": "code",
      "execution_count": 65,
      "metadata": {
        "colab": {
          "base_uri": "https://localhost:8080/"
        },
        "id": "DcZwSe4sh2gX",
        "outputId": "572c7496-5e1e-4422-ea5f-ae5932d6fa6b"
      },
      "outputs": [
        {
          "data": {
            "text/plain": [
              "1    357\n",
              "0    212\n",
              "dtype: int64"
            ]
          },
          "execution_count": 65,
          "metadata": {},
          "output_type": "execute_result"
        }
      ],
      "source": [
        "pd.DataFrame(y).value_counts()"
      ]
    },
    {
      "cell_type": "markdown",
      "metadata": {
        "id": "zChNuK2ziVqQ"
      },
      "source": [
        "On voit que la classe cible est déséquilibrée.\n",
        "62,74% de données de classe 1 et 37,26% données de classe 0.\n",
        "Il faut faire attention a ne pas avoir un split déséquilibré. Pour éviter cela on peut appliquer le paramètre stratify à la cible (y) dans la fonction de split, pour avoir un nombre équilibré de données de chaque classe."
      ]
    },
    {
      "cell_type": "code",
      "execution_count": 66,
      "metadata": {
        "id": "LJ2Vl7L3iq9L"
      },
      "outputs": [],
      "source": [
        "from sklearn.model_selection import train_test_split\n",
        "X_train,X_test,y_train,y_test = train_test_split(X,y, stratify = y, test_size = 0.2)"
      ]
    },
    {
      "cell_type": "code",
      "execution_count": 67,
      "metadata": {
        "colab": {
          "base_uri": "https://localhost:8080/"
        },
        "id": "GsdPfYvqjKj4",
        "outputId": "e22d53c7-66b0-4d34-c7f9-68f8a0f53d6b"
      },
      "outputs": [
        {
          "name": "stdout",
          "output_type": "stream",
          "text": [
            "première évaluation du modèle, précision de 97.37%\n"
          ]
        }
      ],
      "source": [
        "from sklearn.ensemble import RandomForestClassifier\n",
        "algo = RandomForestClassifier()\n",
        "algo.fit(X_train,y_train)\n",
        "print(f\"première évaluation du modèle, précision de {algo.score(X_test,y_test)*100:.2f}%\")"
      ]
    },
    {
      "cell_type": "code",
      "execution_count": 68,
      "metadata": {
        "colab": {
          "base_uri": "https://localhost:8080/",
          "height": 357
        },
        "id": "PuMcpO-elu5U",
        "outputId": "7b3d1ca5-0a6b-41da-be14-6c31762023eb"
      },
      "outputs": [
        {
          "name": "stdout",
          "output_type": "stream",
          "text": [
            "précision moyenne de 96.04% avec marge d'erreur de 1.79%\n",
            "\n"
          ]
        },
        {
          "data": {
            "text/plain": [
              "<BarContainer object of 5 artists>"
            ]
          },
          "execution_count": 68,
          "metadata": {},
          "output_type": "execute_result"
        },
        {
          "data": {
            "image/png": "[encoded data removed]",
            "text/plain": [
              "<Figure size 432x288 with 1 Axes>"
            ]
          },
          "metadata": {
            "needs_background": "light"
          },
          "output_type": "display_data"
        }
      ],
      "source": [
        "from sklearn.model_selection import cross_val_score\n",
        "from sklearn.model_selection import StratifiedKFold\n",
        "import matplotlib.pyplot as plt\n",
        "\n",
        "nb_cv = StratifiedKFold(5)\n",
        "\n",
        "scores = cross_val_score(RandomForestClassifier(),X_train,y_train, cv = nb_cv)\n",
        "print(f\"précision moyenne de {scores.mean()*100:.2f}% avec marge d'erreur de {scores.std()*100:.2f}%\\n\")\n",
        "plt.suptitle(\"précisions avec différentes découpes de train et test\")\n",
        "plt.xlabel(\"numéro de split\")\n",
        "plt.ylabel(\"Précision\")\n",
        "plt.bar([0,1,2,3,4],scores)"
      ]
    },
    {
      "cell_type": "markdown",
      "metadata": {
        "id": "6WChoiwJnCn0"
      },
      "source": [
        "On voit ici que peu importe les différentes partition, le score du modèle ne change pas de manière significative.\n",
        "Pour la suite on fixera la partition à l'une des 5, pour ne pas qu'elle change a chaque fois."
      ]
    },
    {
      "cell_type": "code",
      "execution_count": 69,
      "metadata": {
        "colab": {
          "base_uri": "https://localhost:8080/"
        },
        "id": "iq9cOKwDnB4v",
        "outputId": "7fed041c-22b3-4968-d6f1-ceee6ebd97d0"
      },
      "outputs": [
        {
          "data": {
            "text/html": [
              "<style>#sk-container-id-5 {color: black;background-color: white;}#sk-container-id-5 pre{padding: 0;}#sk-container-id-5 div.sk-toggleable {background-color: white;}#sk-container-id-5 label.sk-toggleable__label {cursor: pointer;display: block;width: 100%;margin-bottom: 0;padding: 0.3em;box-sizing: border-box;text-align: center;}#sk-container-id-5 label.sk-toggleable__label-arrow:before {content: \"▸\";float: left;margin-right: 0.25em;color: #696969;}#sk-container-id-5 label.sk-toggleable__label-arrow:hover:before {color: black;}#sk-container-id-5 div.sk-estimator:hover label.sk-toggleable__label-arrow:before {color: black;}#sk-container-id-5 div.sk-toggleable__content {max-height: 0;max-width: 0;overflow: hidden;text-align: left;background-color: #f0f8ff;}#sk-container-id-5 div.sk-toggleable__content pre {margin: 0.2em;color: black;border-radius: 0.25em;background-color: #f0f8ff;}#sk-container-id-5 input.sk-toggleable__control:checked~div.sk-toggleable__content {max-height: 200px;max-width: 100%;overflow: auto;}#sk-container-id-5 input.sk-toggleable__control:checked~label.sk-toggleable__label-arrow:before {content: \"▾\";}#sk-container-id-5 div.sk-estimator input.sk-toggleable__control:checked~label.sk-toggleable__label {background-color: #d4ebff;}#sk-container-id-5 div.sk-label input.sk-toggleable__control:checked~label.sk-toggleable__label {background-color: #d4ebff;}#sk-container-id-5 input.sk-hidden--visually {border: 0;clip: rect(1px 1px 1px 1px);clip: rect(1px, 1px, 1px, 1px);height: 1px;margin: -1px;overflow: hidden;padding: 0;position: absolute;width: 1px;}#sk-container-id-5 div.sk-estimator {font-family: monospace;background-color: #f0f8ff;border: 1px dotted black;border-radius: 0.25em;box-sizing: border-box;margin-bottom: 0.5em;}#sk-container-id-5 div.sk-estimator:hover {background-color: #d4ebff;}#sk-container-id-5 div.sk-parallel-item::after {content: \"\";width: 100%;border-bottom: 1px solid gray;flex-grow: 1;}#sk-container-id-5 div.sk-label:hover label.sk-toggleable__label {background-color: #d4ebff;}#sk-container-id-5 div.sk-serial::before {content: \"\";position: absolute;border-left: 1px solid gray;box-sizing: border-box;top: 0;bottom: 0;left: 50%;z-index: 0;}#sk-container-id-5 div.sk-serial {display: flex;flex-direction: column;align-items: center;background-color: white;padding-right: 0.2em;padding-left: 0.2em;position: relative;}#sk-container-id-5 div.sk-item {position: relative;z-index: 1;}#sk-container-id-5 div.sk-parallel {display: flex;align-items: stretch;justify-content: center;background-color: white;position: relative;}#sk-container-id-5 div.sk-item::before, #sk-container-id-5 div.sk-parallel-item::before {content: \"\";position: absolute;border-left: 1px solid gray;box-sizing: border-box;top: 0;bottom: 0;left: 50%;z-index: -1;}#sk-container-id-5 div.sk-parallel-item {display: flex;flex-direction: column;z-index: 1;position: relative;background-color: white;}#sk-container-id-5 div.sk-parallel-item:first-child::after {align-self: flex-end;width: 50%;}#sk-container-id-5 div.sk-parallel-item:last-child::after {align-self: flex-start;width: 50%;}#sk-container-id-5 div.sk-parallel-item:only-child::after {width: 0;}#sk-container-id-5 div.sk-dashed-wrapped {border: 1px dashed gray;margin: 0 0.4em 0.5em 0.4em;box-sizing: border-box;padding-bottom: 0.4em;background-color: white;}#sk-container-id-5 div.sk-label label {font-family: monospace;font-weight: bold;display: inline-block;line-height: 1.2em;}#sk-container-id-5 div.sk-label-container {text-align: center;}#sk-container-id-5 div.sk-container {/* jupyter's `normalize.less` sets `[hidden] { display: none; }` but bootstrap.min.css set `[hidden] { display: none !important; }` so we also need the `!important` here to be able to override the default hidden behavior on the sphinx rendered scikit-learn.org. See: https://github.com/scikit-learn/scikit-learn/issues/21755 */display: inline-block !important;position: relative;}#sk-container-id-5 div.sk-text-repr-fallback {display: none;}</style><div id=\"sk-container-id-5\" class=\"sk-top-container\"><div class=\"sk-text-repr-fallback\"><pre>RandomForestClassifier()</pre><b>In a Jupyter environment, please rerun this cell to show the HTML representation or trust the notebook. <br />On GitHub, the HTML representation is unable to render, please try loading this page with nbviewer.org.</b></div><div class=\"sk-container\" hidden><div class=\"sk-item\"><div class=\"sk-estimator sk-toggleable\"><input class=\"sk-toggleable__control sk-hidden--visually\" id=\"sk-estimator-id-5\" type=\"checkbox\" checked><label for=\"sk-estimator-id-5\" class=\"sk-toggleable__label sk-toggleable__label-arrow\">RandomForestClassifier</label><div class=\"sk-toggleable__content\"><pre>RandomForestClassifier()</pre></div></div></div></div></div>"
            ],
            "text/plain": [
              "RandomForestClassifier()"
            ]
          },
          "execution_count": 69,
          "metadata": {},
          "output_type": "execute_result"
        }
      ],
      "source": [
        "X_train,X_test,y_train,y_test = train_test_split(X, y, random_state = 1, stratify = y, test_size = 0.2)\n",
        "algo.fit(X_train, y_train)"
      ]
    },
    {
      "cell_type": "code",
      "execution_count": 70,
      "metadata": {
        "colab": {
          "base_uri": "https://localhost:8080/",
          "height": 356
        },
        "id": "q_rgDN7KbmIw",
        "outputId": "8f014c40-1a1f-4eda-8589-3e9a4ed68239"
      },
      "outputs": [
        {
          "name": "stdout",
          "output_type": "stream",
          "text": [
            "[[40  2]\n",
            " [ 2 70]]\n"
          ]
        },
        {
          "data": {
            "image/png": "[encoded data removed]",
            "text/plain": [
              "<Figure size 432x288 with 2 Axes>"
            ]
          },
          "metadata": {
            "needs_background": "light"
          },
          "output_type": "display_data"
        }
      ],
      "source": [
        "from sklearn.metrics import confusion_matrix\n",
        "import seaborn as sbn\n",
        "import numpy as np\n",
        "cf_matrix = confusion_matrix(y_test, algo.predict(X_test))\n",
        "print(cf_matrix)\n",
        "ax = sbn.heatmap(cf_matrix/np.sum(cf_matrix), fmt='.2%', annot=True, cmap='Blues')\n",
        "ax.set_title('Matrice de confusion\\n\\n');\n",
        "ax.set_ylabel('\\nPrediction')\n",
        "ax.set_xlabel('Valeur actuelle');\n",
        "ax.xaxis.set_ticklabels(['Malin','Begnin'])\n",
        "ax.yaxis.set_ticklabels(['Malin','Begnin'])\n",
        "plt.show()"
      ]
    },
    {
      "cell_type": "markdown",
      "metadata": {
        "id": "_A26OrJlp2DR"
      },
      "source": [
        "On observe 0.88% de faux positif et 2.63% de faux negatif,\n",
        "sachant que positif = a une tumeur maligne, et negatif = une tumeur bégnine."
      ]
    },
    {
      "cell_type": "code",
      "execution_count": 71,
      "metadata": {
        "colab": {
          "base_uri": "https://localhost:8080/"
        },
        "id": "c7k6zOU7f87x",
        "outputId": "8cff4a2f-a5a0-4890-a11a-0780cb9af8b6"
      },
      "outputs": [
        {
          "name": "stdout",
          "output_type": "stream",
          "text": [
            "recall_score :    97.22% de positifs bien prédits par le modèle\n",
            "accuracy_score :  96.49% de prédictions correctes\n"
          ]
        }
      ],
      "source": [
        "from sklearn.metrics import recall_score, accuracy_score\n",
        "print(f\"recall_score :    {recall_score(y_test,algo.predict(X_test))*100:.2f}% de positifs bien prédits par le modèle\")\n",
        "print(f\"accuracy_score :  {accuracy_score(y_test,algo.predict(X_test))*100:.2f}% de prédictions correctes\")"
      ]
    },
    {
      "cell_type": "markdown",
      "metadata": {
        "id": "2jdhhUcKsodd"
      },
      "source": [
        "le recall donne le pourcentage de positif bien prédits par le modèle. Plus il est élevé, moins le modèle ne rate de cas positifs (tumeur cancéreuse). C'est donc un l'indicateur le plus important à prendre en compte dans le cadre du cancer, ou minimiser les faux négatifs est vital.\n",
        "\n"
      ]
    },
    {
      "cell_type": "markdown",
      "metadata": {
        "id": "xyhxJNkAvEV2"
      },
      "source": [
        "l'accuracy donne le pourcentage de prédictions correctes (positif comme négatif). Il est donc aussi important à prendre en compte, en association avec le recall, pour avoir une vue globale."
      ]
    },
    {
      "cell_type": "markdown",
      "metadata": {
        "id": "PMhnWuqdeB1J"
      },
      "source": [
        "\n",
        "\n",
        "---\n",
        "\n",
        "# REGRESSION, DATASET : DIABETE\n",
        "\n",
        "\n",
        "---\n",
        "\n"
      ]
    },
    {
      "cell_type": "markdown",
      "metadata": {
        "id": "bA4ja_vNzi0l"
      },
      "source": [
        "*CHARGEMENT DES DONNÉES PUIS CONVERSION EN PD.DATAFRAME*"
      ]
    },
    {
      "cell_type": "code",
      "execution_count": 72,
      "metadata": {
        "id": "3MNwz-Zhvvpc"
      },
      "outputs": [],
      "source": [
        "dataset = datasets.load_diabetes()\n",
        "X = pd.DataFrame(data = dataset.data, columns = dataset.feature_names)\n",
        "y = dataset.target"
      ]
    },
    {
      "cell_type": "code",
      "execution_count": 73,
      "metadata": {
        "colab": {
          "base_uri": "https://localhost:8080/"
        },
        "id": "8yEvccC11jU7",
        "outputId": "e972741c-f0ee-4c01-d199-df7eba647420"
      },
      "outputs": [
        {
          "name": "stdout",
          "output_type": "stream",
          "text": [
            "une première évaluation du modèle, précision de 35.54%.\n",
            "Il décrit 35.54% des variations du taux de diabètes\n"
          ]
        }
      ],
      "source": [
        "from sklearn.ensemble import RandomForestRegressor\n",
        "algo = RandomForestRegressor()\n",
        "X_train,X_test,y_train,y_test = train_test_split(X,y, test_size = 0.2)\n",
        "algo.fit(X_train,y_train)\n",
        "print(f\"une première évaluation du modèle, précision de {algo.score(X_test,y_test)*100:.2f}%.\\nIl décrit {algo.score(X_test,y_test)*100:.2f}% des variations du taux de diabètes\")"
      ]
    },
    {
      "cell_type": "code",
      "execution_count": 74,
      "metadata": {
        "colab": {
          "base_uri": "https://localhost:8080/",
          "height": 357
        },
        "id": "u9j5yYcPjKdk",
        "outputId": "30e2b889-fb50-41a3-8f2f-e83abd19d822"
      },
      "outputs": [
        {
          "name": "stdout",
          "output_type": "stream",
          "text": [
            "précision de 44.01% avec marge d'erreur de 8.08%\n",
            "\n"
          ]
        },
        {
          "data": {
            "text/plain": [
              "<BarContainer object of 5 artists>"
            ]
          },
          "execution_count": 74,
          "metadata": {},
          "output_type": "execute_result"
        },
        {
          "data": {
            "image/png": "[encoded data removed]",
            "text/plain": [
              "<Figure size 432x288 with 1 Axes>"
            ]
          },
          "metadata": {
            "needs_background": "light"
          },
          "output_type": "display_data"
        }
      ],
      "source": [
        "scores = cross_val_score(RandomForestRegressor(),X_train,y_train, cv = 5)\n",
        "print(f\"précision de {scores.mean()*100:.2f}% avec marge d'erreur de {scores.std()*100:.2f}%\\n\")\n",
        "plt.xlabel(\"numéro de split\")\n",
        "plt.ylabel(\"Précision\")\n",
        "plt.suptitle(\"Variations de précision selon différentes Partitions\")\n",
        "plt.bar([0,1,2,3,4],scores)"
      ]
    },
    {
      "cell_type": "markdown",
      "metadata": {
        "id": "EmZ9nJwMxTMJ"
      },
      "source": [
        "En fonction des partitions les taux de précisions peuvent varier assez fortement, mais aucun n'est précis. La marge d'erreur est forte."
      ]
    },
    {
      "cell_type": "code",
      "execution_count": 75,
      "metadata": {
        "colab": {
          "base_uri": "https://localhost:8080/",
          "height": 296
        },
        "id": "YfKM5xOogGFQ",
        "outputId": "7c3f5b60-fb72-4171-dec1-736456ec34ce"
      },
      "outputs": [
        {
          "data": {
            "text/plain": [
              "[<matplotlib.lines.Line2D at 0x178998df0>]"
            ]
          },
          "execution_count": 75,
          "metadata": {},
          "output_type": "execute_result"
        },
        {
          "data": {
            "image/png": "[encoded data removed]",
            "text/plain": [
              "<Figure size 432x288 with 1 Axes>"
            ]
          },
          "metadata": {
            "needs_background": "light"
          },
          "output_type": "display_data"
        }
      ],
      "source": [
        "plt.title('Performance du modèle')\n",
        "plt.plot(list(algo.predict(X_test))[:20])\n",
        "plt.plot(list(y_test)[:20])"
      ]
    },
    {
      "cell_type": "markdown",
      "metadata": {
        "id": "qN9Zpoi-g4fA"
      },
      "source": [
        "on voit de grosses différences entre les valeurs réelles et les prédictions. Le modèle n'est pas précis."
      ]
    },
    {
      "cell_type": "code",
      "execution_count": 76,
      "metadata": {
        "colab": {
          "base_uri": "https://localhost:8080/"
        },
        "id": "5Bp2hIr8kAD9",
        "outputId": "08534667-4f76-4ade-cd97-10a631bc0f65"
      },
      "outputs": [
        {
          "name": "stdout",
          "output_type": "stream",
          "text": [
            "MAE =  45.25494382022472\n",
            "MSE =  3158.6945224719107\n",
            "RMSE =  56.202264389185515\n",
            "RMSE = 56.20, moyenne des observation = 140.28\n",
            "RMSE correspond à 40.06% des observations\n",
            "\n",
            "r2_score =  0.35536843158426346\n"
          ]
        }
      ],
      "source": [
        "from sklearn.metrics import mean_squared_error\n",
        "from sklearn.metrics import mean_absolute_error\n",
        "from sklearn.metrics import r2_score \n",
        "import statistics\n",
        "import math\n",
        "RMSE = math.sqrt(mean_squared_error(y_test,algo.predict(X_test)))\n",
        "print(\"MAE = \",mean_absolute_error(y_test,algo.predict(X_test)))\n",
        "print(\"MSE = \",mean_squared_error(y_test,algo.predict(X_test)))\n",
        "print(\"RMSE = \",math.sqrt(mean_squared_error(y_test,algo.predict(X_test))))\n",
        "print(f\"RMSE = {RMSE:.2f}, moyenne des observation = {statistics.mean(y_test):.2f}\")\n",
        "print(f\"RMSE correspond à {(RMSE*100) / statistics.mean(y_test):.2f}% des observations\\n\")\n",
        "print(\"r2_score = \",r2_score(y_test,algo.predict(X_test)))"
      ]
    },
    {
      "cell_type": "markdown",
      "metadata": {
        "id": "5_UGxAsZpjil"
      },
      "source": [
        "La MSE penalise beaucoup + les grandes erreurs que la MAE. Dans notre cas on gardera donc la MSE car une grande erreur de prédiction peut etre grave dans le cas du diabete.\n",
        "On peut voir que la valeur de MSE est très grande et r2_score est bas --> le modèle n'est pas précis.\n"
      ]
    },
    {
      "cell_type": "markdown",
      "metadata": {
        "id": "5A0UCsFVuldD"
      },
      "source": [
        "HISTOGRAMMES DES ERREURS"
      ]
    },
    {
      "cell_type": "code",
      "execution_count": 77,
      "metadata": {
        "colab": {
          "base_uri": "https://localhost:8080/",
          "height": 541
        },
        "id": "xqdmJhyyubMG",
        "outputId": "110e0ad8-b63a-4fd8-8716-2846c904398b"
      },
      "outputs": [
        {
          "data": {
            "text/plain": [
              "(array([20., 19., 17., 13., 20., 22., 15., 18.,  9., 15., 15., 12., 18.,\n",
              "        12., 13., 12.,  7., 13.,  9.,  8.,  1., 10.,  6.,  4.,  3.,  5.,\n",
              "         9.,  4.,  2.,  3.,  2.,  3.,  3.,  1.,  0.,  1.,  2.,  1.,  1.,\n",
              "         0.,  2.,  0.,  1.,  0.,  0.,  1.,  0.,  0.,  0.,  1.]),\n",
              " array([ 0.28  ,  1.6764,  3.0728,  4.4692,  5.8656,  7.262 ,  8.6584,\n",
              "        10.0548, 11.4512, 12.8476, 14.244 , 15.6404, 17.0368, 18.4332,\n",
              "        19.8296, 21.226 , 22.6224, 24.0188, 25.4152, 26.8116, 28.208 ,\n",
              "        29.6044, 31.0008, 32.3972, 33.7936, 35.19  , 36.5864, 37.9828,\n",
              "        39.3792, 40.7756, 42.172 , 43.5684, 44.9648, 46.3612, 47.7576,\n",
              "        49.154 , 50.5504, 51.9468, 53.3432, 54.7396, 56.136 , 57.5324,\n",
              "        58.9288, 60.3252, 61.7216, 63.118 , 64.5144, 65.9108, 67.3072,\n",
              "        68.7036, 70.1   ]),\n",
              " <BarContainer object of 50 artists>)"
            ]
          },
          "execution_count": 77,
          "metadata": {},
          "output_type": "execute_result"
        },
        {
          "data": {
            "image/png": "[encoded data removed]",
            "text/plain": [
              "<Figure size 432x288 with 1 Axes>"
            ]
          },
          "metadata": {
            "needs_background": "light"
          },
          "output_type": "display_data"
        }
      ],
      "source": [
        "y_pred = algo.predict(X_train)\n",
        "plt.xlabel(\"valeur d'erreur = différence avec la valeur réelle\")\n",
        "plt.ylabel(\"nombre de prédictions\")\n",
        "plt.hist(np.abs(y_train - y_pred), bins = 50)"
      ]
    },
    {
      "cell_type": "markdown",
      "metadata": {
        "id": "pH-jgMaexuWh"
      },
      "source": [
        "On voit que beaucoup de prédictions font des erreurs assez grandes. Le modèle fais beaucoup d'erreurs importantes."
      ]
    }
  ],
  "metadata": {
    "colab": {
      "collapsed_sections": [],
      "name": "[TER]_Etape_2.ipynb",
      "provenance": []
    },
    "interpreter": {
      "hash": "b0fa6594d8f4cbf19f97940f81e996739fb7646882a419484c72d19e05852a7e"
    },
    "kernelspec": {
      "display_name": "Python 3.9.10 64-bit",
      "language": "python",
      "name": "python3"
    },
    "language_info": {
      "codemirror_mode": {
        "name": "ipython",
        "version": 3
      },
      "file_extension": ".py",
      "mimetype": "text/x-python",
      "name": "python",
      "nbconvert_exporter": "python",
      "pygments_lexer": "ipython3",
      "version": "3.9.10"
    }
  },
  "nbformat": 4,
  "nbformat_minor": 0
}
